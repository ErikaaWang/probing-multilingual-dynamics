{
 "cells": [
  {
   "cell_type": "code",
   "execution_count": 1,
   "metadata": {},
   "outputs": [],
   "source": [
    "import pandas as pd\n",
    "import os"
   ]
  },
  {
   "cell_type": "code",
   "execution_count": 2,
   "metadata": {},
   "outputs": [],
   "source": [
    "model_ckpt_dict = {\n",
    "    'bloom-560m': [1000, 10000, 100000, 200000, 300000, 400000, 500000, 600000],\n",
    "    'bloom-1b1': [1000, 10000, 100000, 200000, 300000, 400000, 500000, 600000],\n",
    "    'bloom-1b7': [10000, 50000, 100000, 150000, 200000, 250000], \n",
    "}\n",
    "\n",
    "trg_langs = ['ar', 'es', 'eu', 'fr', 'hi', 'pt', 'ta', 'ur', 'vi']\n",
    "\n",
    "similarity_result_path = os.path.join('../parallel-sentence-similarity/experiments/cos_similarity_csv/')\n",
    "output_csv_file_path = 'csv_files/'\n",
    "layer = 'inter-layer-17'"
   ]
  },
  {
   "cell_type": "code",
   "execution_count": 3,
   "metadata": {},
   "outputs": [],
   "source": [
    "def read_similarity_by_langs(path, lang_list, read_code=False):\n",
    "    similarity_dict = {}\n",
    "    for lang in lang_list:\n",
    "        result_file = os.path.join(path, f'en-{lang}.csv')\n",
    "        with open(result_file, 'r') as f:\n",
    "            last_line = f.readlines()[-1]\n",
    "            similarity_dict[lang] = float(last_line.split(',')[1])\n",
    "    if read_code:\n",
    "        result_file = os.path.join(path, f'nl-code.csv')\n",
    "        with open(result_file, 'r') as f:\n",
    "            last_line = f.readlines()[-1]\n",
    "            similarity_dict['code'] = float(last_line.split(',')[1])\n",
    "    return similarity_dict"
   ]
  },
  {
   "cell_type": "code",
   "execution_count": 4,
   "metadata": {},
   "outputs": [
    {
     "name": "stdout",
     "output_type": "stream",
     "text": [
      "          best      1000     10000    100000    200000    300000    400000  \\\n",
      "ar    0.798261  0.576057  0.821778  0.759966  0.797074  0.872960  0.846931   \n",
      "es    0.913211  0.818782  0.902119  0.887048  0.878481  0.939869  0.926818   \n",
      "eu    0.854765  0.773876  0.863074  0.851020  0.820118  0.905174  0.896829   \n",
      "fr    0.906356  0.816407  0.879427  0.836612  0.816979  0.937361  0.923263   \n",
      "hi    0.851320  0.761199  0.914003  0.945328  0.926196  0.914875  0.893790   \n",
      "pt    0.895442  0.838145  0.892464  0.899645  0.886876  0.931779  0.921725   \n",
      "ta    0.752443  0.713010  0.903304  0.920436  0.812374  0.859095  0.859116   \n",
      "ur    0.767284  0.588278  0.857497  0.830784  0.864675  0.855181  0.838212   \n",
      "vi    0.892080  0.787140  0.905484  0.926244  0.918944  0.932927  0.919620   \n",
      "code  0.309845  0.018295  0.241529  0.555214  0.460839  0.411699  0.382130   \n",
      "\n",
      "        500000    600000  \n",
      "ar    0.821778  0.341260  \n",
      "es    0.902119  0.751111  \n",
      "eu    0.863074  0.767098  \n",
      "fr    0.879427  0.755451  \n",
      "hi    0.914003  0.767822  \n",
      "pt    0.892464  0.782643  \n",
      "ta    0.903304  0.780934  \n",
      "ur    0.857497  0.563037  \n",
      "vi    0.905484  0.797173  \n",
      "code  0.241529  0.178551  \n",
      "          best      1000     10000    100000    200000    300000    400000  \\\n",
      "ar    0.802136  0.612988  0.812268  0.858537  0.882799  0.867077  0.415682   \n",
      "es    0.907361  0.833209  0.885794  0.903941  0.947648  0.939167  0.719939   \n",
      "eu    0.860004  0.797227  0.847972  0.879568  0.918338  0.904984  0.725729   \n",
      "fr    0.905511  0.839923  0.858069  0.925629  0.947334  0.938350  0.720558   \n",
      "hi    0.824616  0.813625  0.926274  0.907638  0.912886  0.887611  0.721805   \n",
      "pt    0.890712  0.855845  0.888703  0.913175  0.940942  0.924517  0.738057   \n",
      "ta    0.724020  0.799788  0.909504  0.893061  0.876980  0.834051  0.733007   \n",
      "ur    0.770332  0.656704  0.867839  0.868409  0.879039  0.851269  0.565577   \n",
      "vi    0.892017  0.835754  0.903196  0.887823  0.934820  0.926055  0.749657   \n",
      "code  0.269463  0.019178  0.277633  0.588650  0.532001  0.459236  0.330094   \n",
      "\n",
      "        500000    600000  \n",
      "ar    0.821346  0.801683  \n",
      "es    0.920376  0.907324  \n",
      "eu    0.879877  0.859540  \n",
      "fr    0.914276  0.905022  \n",
      "hi    0.865793  0.824704  \n",
      "pt    0.908601  0.891436  \n",
      "ta    0.769053  0.726346  \n",
      "ur    0.807371  0.769498  \n",
      "vi    0.906297  0.890710  \n",
      "code  0.307863  0.288885  \n",
      "          best     10000     50000    100000    150000    200000    250000\n",
      "ar    0.815784  0.632939  0.891269  0.893720  0.887610  0.859673  0.850216\n",
      "es    0.905233  0.855589  0.950126  0.952199  0.945133  0.932197  0.925703\n",
      "eu    0.867597  0.840405  0.918428  0.926238  0.921629  0.900110  0.889365\n",
      "fr    0.907904  0.866441  0.950085  0.952737  0.945258  0.930964  0.924637\n",
      "hi    0.841366  0.840069  0.923070  0.924542  0.918207  0.892335  0.881172\n",
      "pt    0.889769  0.884652  0.948940  0.946406  0.938214  0.917449  0.912725\n",
      "ta    0.778383  0.828667  0.902099  0.896513  0.887958  0.851844  0.837470\n",
      "ur    0.807214  0.717206  0.886710  0.891476  0.889114  0.861769  0.847867\n",
      "vi    0.893123  0.880235  0.936960  0.939615  0.933497  0.918551  0.916872\n",
      "code  0.364131  0.061863  0.602123  0.600913  0.560887  0.508598  0.455872\n"
     ]
    }
   ],
   "source": [
    "for model, ckpt_list in model_ckpt_dict.items():\n",
    "\n",
    "    output_csv_file_name = os.path.join(output_csv_file_path, f'{model}_{layer}_cos-similarity.csv')\n",
    "    ckpt_similarity_dict = {}\n",
    "    # Dict{ckpt: Dict{ lang: similarity}}\n",
    "    ckpt_similarity_dict['best'] = read_similarity_by_langs(os.path.join(similarity_result_path, model, layer), trg_langs, read_code=True)\n",
    "    \n",
    "    for ckpt in ckpt_list:\n",
    "        ckpt_similarity_dict[ckpt] = read_similarity_by_langs(os.path.join(similarity_result_path, f'{model}-intermediate-global_step{ckpt}', layer), trg_langs, read_code=True)\n",
    "    \n",
    "    df = pd.DataFrame.from_dict(ckpt_similarity_dict)\n",
    "    print(df)\n",
    "    df.to_csv(output_csv_file_name)\n",
    "\n",
    "\n"
   ]
  }
 ],
 "metadata": {
  "kernelspec": {
   "display_name": "xtreme",
   "language": "python",
   "name": "python3"
  },
  "language_info": {
   "codemirror_mode": {
    "name": "ipython",
    "version": 3
   },
   "file_extension": ".py",
   "mimetype": "text/x-python",
   "name": "python",
   "nbconvert_exporter": "python",
   "pygments_lexer": "ipython3",
   "version": "3.8.17"
  },
  "orig_nbformat": 4
 },
 "nbformat": 4,
 "nbformat_minor": 2
}
